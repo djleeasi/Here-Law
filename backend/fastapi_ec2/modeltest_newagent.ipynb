{
 "cells": [
  {
   "cell_type": "code",
   "execution_count": 1,
   "metadata": {},
   "outputs": [],
   "source": [
    "# 먼저 GPU 서버를 켜놓는다. GPU 서버의 Embedding 모델을 활용해야 하기 때문.\n",
    "# GPU_URL = \"http://222.107.238.44:8109/v1\" #GPU 서버 URL 및 포트, 형식: http://some_url:8109\n",
    "GPU_URL = \"http://localhost:8109/v1\" #GPU 서버 URL 및 포트, 형식: http://some_url:8109\n",
    "DB_URL = \"here_law_admin:1234@3.36.85.129:5434/here_law\" #DB URL. 형식: 계정이름:비밀번호@도메인:포트/사용할 DB 이름\n",
    "API_KEY=\"sk-proj-1pGHnq8uFfaPqRQUWCdgT3BlbkFJ9uF478M8oyptDikjRI7o\""
   ]
  },
  {
   "cell_type": "code",
   "execution_count": 2,
   "metadata": {},
   "outputs": [],
   "source": [
    "from agents.rag_agent import CaseRagAgent"
   ]
  },
  {
   "cell_type": "code",
   "execution_count": 3,
   "metadata": {},
   "outputs": [],
   "source": [
    "rag_agent = CaseRagAgent(db_url=DB_URL, embedder_url=GPU_URL, api_key=API_KEY, temperature=0)"
   ]
  },
  {
   "cell_type": "code",
   "execution_count": 4,
   "metadata": {},
   "outputs": [],
   "source": [
    "inputs = {\"messages\": [(\"user\", \"수면 관련해서 문제가 되었던 판례를 찾아봐바.\")]}\n",
    "# rag_agent._print_stream(inputs)\n",
    "result = rag_agent(inputs)"
   ]
  },
  {
   "cell_type": "code",
   "execution_count": 5,
   "metadata": {},
   "outputs": [],
   "source": [
    "resultarray = []\n",
    "for s in result:\n",
    "    resultarray.append(s)"
   ]
  },
  {
   "cell_type": "code",
   "execution_count": null,
   "metadata": {},
   "outputs": [],
   "source": [
    "resultarray"
   ]
  },
  {
   "cell_type": "code",
   "execution_count": null,
   "metadata": {},
   "outputs": [],
   "source": []
  }
 ],
 "metadata": {
  "kernelspec": {
   "display_name": "llm-llama",
   "language": "python",
   "name": "python3"
  },
  "language_info": {
   "codemirror_mode": {
    "name": "ipython",
    "version": 3
   },
   "file_extension": ".py",
   "mimetype": "text/x-python",
   "name": "python",
   "nbconvert_exporter": "python",
   "pygments_lexer": "ipython3",
   "version": "3.10.14"
  }
 },
 "nbformat": 4,
 "nbformat_minor": 2
}
