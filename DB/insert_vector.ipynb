{
 "cells": [
  {
   "cell_type": "code",
   "execution_count": null,
   "metadata": {},
   "outputs": [],
   "source": [
    "# 먼저 GPU 서버를 켜놓는다. GPU 서버의 Embedding 모델을 활용해야 하기 때문.\n",
    "GPU_URL = \"\" #GPU 서버 URL 및 포트. 끝에 v1이 필요한 이유는 OpenAI랑 맞추기 위함. 형식: some_url:8109/v1\n",
    "DB_URL = \"\" #DB URL. 형식: 계정이름:비밀번호@도메인:포트/사용할 DB 이름\n",
    "COLLECTION_NAME = \"case_vector\" #지금 넣을 데이터가 들어갈 vector collection"
   ]
  },
  {
   "cell_type": "code",
   "execution_count": null,
   "metadata": {},
   "outputs": [],
   "source": [
    "import torch\n",
    "from ..backend.fastapi_ec2.embedding_proxy import EmbeddingProxy\n",
    "from langchain_postgres import PGVector\n",
    "from langchain.tools.retriever import create_retriever_tool\n",
    "\n",
    "embedder = EmbeddingProxy(url=GPU_URL)\n",
    "\n",
    "connection = \"postgresql+psycopg://\" + DB_URL\n",
    "\n",
    "vector_store = PGVector(\n",
    "    embeddings=embedder,\n",
    "    collection_name=COLLECTION_NAME,\n",
    "    connection=connection,\n",
    "    use_jsonb=True,\n",
    ")"
   ]
  },
  {
   "cell_type": "code",
   "execution_count": null,
   "metadata": {},
   "outputs": [],
   "source": []
  }
 ],
 "metadata": {
  "kernelspec": {
   "display_name": "llm-llama",
   "language": "python",
   "name": "python3"
  },
  "language_info": {
   "name": "python",
   "version": "3.10.14"
  }
 },
 "nbformat": 4,
 "nbformat_minor": 2
}
